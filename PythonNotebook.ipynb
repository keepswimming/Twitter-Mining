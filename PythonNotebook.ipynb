{
 "cells": [
  {
   "cell_type": "markdown",
   "metadata": {},
   "source": [
    "<img src=\"https://datasciencedegree.wisconsin.edu/wp-content/themes/data-gulp/images/logo.svg\" width=\"300\">\n"
   ]
  },
  {
   "cell_type": "markdown",
   "metadata": {},
   "source": [
    "Aretha Miller\n",
    "DS:710 Final Project\n",
    "May 3, 2020\n",
    "# Lesson 13 Activity -- Using ```tweepy``` for Data Mining\n",
    "Topic: Analysis of Four Types of Masks Tweeted During the Covid-19 Pandemic"
   ]
  },
  {
   "cell_type": "markdown",
   "metadata": {},
   "source": [
    "This is an introduction to data collection from <a href=\"http://www.twitter.com/\">Twitter</a> using the [`tweepy`](http://www.tweepy.org/) package."
   ]
  },
  {
   "cell_type": "markdown",
   "metadata": {},
   "source": [
    "---\n",
    "\n",
    "## Getting set up -- things you do about once"
   ]
  },
  {
   "cell_type": "markdown",
   "metadata": {},
   "source": [
    "### Install Tweepy\n",
    "\n",
    "You must install the tweepy package from either Anaconda or the terminal on your computer before using it!"
   ]
  },
  {
   "cell_type": "markdown",
   "metadata": {},
   "source": [
    "### Make a twitter account\n",
    "\n",
    "You'll need to set up an app at <a href=\"https://apps.twitter.com/\">apps.twitter.com</a>. #done"
   ]
  },
  {
   "cell_type": "markdown",
   "metadata": {},
   "source": [
    "### Save your credentials to an external file\n",
    "\n",
    "Make a plain text file on your computer called `twitter_credentials.py`, and put it anywhere but this directory.  I put mine in my home directory for my user.  It will look something like this:\n",
    "\n",
    "    con_key = 'your consumer key goes here'\n",
    "    con_secret = 'your consumer secret goes here'\n",
    "    acc_token = 'your access token goes here'\n",
    "    acc_secret = 'your access secret goes here'\n",
    "    \n",
    "* Save your consumer key, consumer secret, access token, and access secret there.\n",
    "* Don't share these secrets with others!  \n",
    "* It's also possible to generate access tokens and secrets from within an app, but now's not the right time for this."
   ]
  },
  {
   "cell_type": "markdown",
   "metadata": {},
   "source": [
    "---\n",
    "\n",
    "## Preliminaries to using tweepy -- things you do once per session\n",
    "\n",
    "You have to do these things about once per session.  If you close your notebook, or restart the kernel, then you have to do these things before you can again use the Tweepy interface to the Twitter API."
   ]
  },
  {
   "cell_type": "markdown",
   "metadata": {},
   "source": [
    "#### 1. Gain access to the Tweepy library\n",
    "\n",
    "As you would any other Python library, `import`."
   ]
  },
  {
   "cell_type": "code",
   "execution_count": 1,
   "metadata": {},
   "outputs": [],
   "source": [
    "import tweepy\n",
    "import pandas as pd #to load csv\n",
    "import numpy as np #to do some math later\n",
    "from textblob import TextBlob \n",
    "import nltk\n",
    "import json\n",
    "import time\n",
    "import csv\n",
    "import datetime\n",
    "import pathlib\n",
    "import unicodedata\n",
    "from toolz.curried import filter, pipe, take\n",
    "import datetime\n",
    "import pathlib\n",
    "import unicodedata\n",
    "\n",
    "##from matplotlib import pyplot as plt##delete b4 submission\n"
   ]
  },
  {
   "cell_type": "markdown",
   "metadata": {},
   "source": [
    "#### 2. Load your credentials from the external file\n",
    "\n",
    "Invoke a python plain text source file located somewhere else on your computer."
   ]
  },
  {
   "cell_type": "code",
   "execution_count": 2,
   "metadata": {},
   "outputs": [],
   "source": [
    "#Use tweepy.OAuthHandler to create an authentication using the given key and secret\n",
    "auth = tweepy.OAuthHandler(consumer_key=\"chh0YzH4CEcug8ayB1oOanjI4\", consumer_secret=\"3gtBX9EXGOY3wMQbGSmolHQJCxmX7L6rXzLYNXWhfQi1AUNdql\")\n",
    "auth.set_access_token(\"1249233874695012353-1KpxU7vFdJFe375urApKvUs10v1IHO\"\n",
    ", \"tQr48Z3aZLgJxK4rgSqtsQ5iYyrF7s9UTiYjMJ5lR45HB\") #***delete before submission\n",
    "\n",
    "#Connect to the Twitter API using the authentication\n",
    "api = tweepy.API(auth)\n"
   ]
  },
  {
   "cell_type": "markdown",
   "metadata": {},
   "source": [
    "🔐 If you need to check whether the four variables, such as `con_key` have the correct value, insert a cell and print the value, then delete the cell.  Keep your credentials secret and safe!!!  "
   ]
  },
  {
   "cell_type": "code",
   "execution_count": 3,
   "metadata": {},
   "outputs": [
    {
     "data": {
      "text/plain": [
       "'3.7.6 (default, Jan  8 2020, 20:23:39) [MSC v.1916 64 bit (AMD64)]'"
      ]
     },
     "execution_count": 3,
     "metadata": {},
     "output_type": "execute_result"
    }
   ],
   "source": [
    "import sys\n",
    "sys.version"
   ]
  },
  {
   "cell_type": "code",
   "execution_count": 4,
   "metadata": {},
   "outputs": [
    {
     "data": {
      "text/plain": [
       "'C:\\\\Users\\\\Chris\\\\Documents\\\\GitHub\\\\ds710spring2020finalproject'"
      ]
     },
     "execution_count": 4,
     "metadata": {},
     "output_type": "execute_result"
    }
   ],
   "source": [
    "import os\n",
    "os.getcwd()"
   ]
  },
  {
   "cell_type": "markdown",
   "metadata": {},
   "source": [
    "#### 3. Make an `API` object\n",
    "\n",
    "The `tweepy.API` object handles construction of the Twitter API calls for you.  It's a convenience layer, but it's really dang convenient!"
   ]
  },
  {
   "cell_type": "markdown",
   "metadata": {},
   "source": [
    "--- \n",
    "\n",
    "## Using the API\n",
    "\n",
    "Twitter has two versions of its API:\n",
    "* The [REST](https://en.wikipedia.org/wiki/Representational_state_transfer) [API](https://en.wikipedia.org/wiki/Application_programming_interface) allows you to _pull_ information from Twitter, or _push_ information back to Twitter.  For example,  \n",
    "  💡 if I wanted to have a Python script that ran as a CRON job to automatically tweet for me under certain conditions, I would use the REST API.\n",
    "* The Streaming API allows us to monitor Twitter in real time, grabbing tweets as they are made.  For example,  \n",
    "  💡 if I wanted to make a little device powered by a Raspberry Pi that showed interesting tweets in real time on a tiny screen by my desk, I would use the streaming API."
   ]
  },
  {
   "cell_type": "markdown",
   "metadata": {},
   "source": [
    "### Method 1. The REST API\n",
    "\n",
    "The REST API allows you to _pull_ information from Twitter, or _push_ information back to Twitter.  We'll use the REST API to run a specific search.  You could also use the REST API to make automatic tweets on Twitter, or get information about specific users."
   ]
  },
  {
   "cell_type": "code",
   "execution_count": 20,
   "metadata": {},
   "outputs": [],
   "source": [
    "#REST API used for a static search\n",
    "\n",
    "output_path = \"tweets1.csv\"\n",
    "\n",
    "n = 10000\n",
    "\n",
    "query = \"(mask OR n95) (#covid) -filter:replies -filter:retweets\"\n",
    "\n",
    "cursor_args = {\n",
    "    \"q\":  query,\n",
    "    \"wait_on_rate_limit\": True,\n",
    "    \"retry_count\": 10,\n",
    "    \"retry_delay\": 300,\n",
    "    \"wait_on_rate_limit_notify\": 10,\n",
    "    \"until\": (datetime.date.today() - datetime.timedelta(days=6)).isoformat(),\n",
    "    \"tweet_mode\": \"extended\"\n",
    "}\n",
    "\n",
    "fieldnames = [\"id\", \"lang\", \"geo\", \"created_at\", \"retweet_count\", \"favorite_count\", \"full_text\"]\n",
    "\n",
    "if pathlib.Path(output_path).exists():\n",
    "    since_id = pd.read_csv(output_path).id.max()\n",
    "    if not np.isnan(since_id):\n",
    "        cursor_args[\"since_id\"] = since_id + 1\n",
    "        if \"until\" in cursor_args:\n",
    "            del cursor_args[\"until\"]\n",
    "\n",
    "else:\n",
    "    with open(output_path, \"w\", encoding=\"utf-8\", newline='') as fw:\n",
    "        writer = csv.DictWriter(fw, fieldnames=fieldnames)\n",
    "        writer.writeheader()\n",
    "\n",
    "with open(output_path, \"a\", encoding=\"utf-8\", newline='') as fw:\n",
    "    writer = csv.DictWriter(fw, fieldnames=fieldnames)\n",
    "    statuses = pipe(\n",
    "        tweepy.Cursor(api.search, **cursor_args).items(),\n",
    "        filter(lambda status: status.lang == \"en\" and (\n",
    "            \"cloth\" in status.full_text or \"surgical\" in status.full_text \n",
    "        )),\n",
    "        take(n)\n",
    "    )\n",
    "\n",
    "    for status in statuses:\n",
    "        row = {\n",
    "            field: getattr(status, field) if field != \"full_text\"\n",
    "            else  unicodedata.normalize(\"NFKD\", getattr(status, field)).replace(\"\\n\", \" \")\n",
    "            for field in fieldnames\n",
    "        }\n",
    "        writer.writerow(row)\n"
   ]
  },
  {
   "cell_type": "code",
   "execution_count": 21,
   "metadata": {},
   "outputs": [],
   "source": [
    "tweet_list1=api.search(q=\"mask\")"
   ]
  },
  {
   "cell_type": "code",
   "execution_count": 22,
   "metadata": {},
   "outputs": [],
   "source": [
    "tweet_list2 = api.search(q='n95') "
   ]
  },
  {
   "cell_type": "code",
   "execution_count": 49,
   "metadata": {},
   "outputs": [
    {
     "data": {
      "text/plain": [
       "100"
      ]
     },
     "execution_count": 49,
     "metadata": {},
     "output_type": "execute_result"
    }
   ],
   "source": [
    "tweet_list1[0]"
   ]
  },
  {
   "cell_type": "markdown",
   "metadata": {},
   "source": [
    "See [twitter's search documentation](https://dev.twitter.com/rest/public/search) for examples of query operators.  Pay attention to how to URL encode your query.  [This w3schools page](https://www.w3schools.com/tags/ref_urlencode.asp) has information on what `%23` and other encodings for URL's mean."
   ]
  },
  {
   "cell_type": "markdown",
   "metadata": {},
   "source": [
    "We retrieve a SearchResult object for each tweet, full of data such as the language, the identity of the poster, etc."
   ]
  },
  {
   "cell_type": "code",
   "execution_count": 24,
   "metadata": {},
   "outputs": [
    {
     "data": {
      "text/plain": [
       "Status(_api=<tweepy.api.API object at 0x000001639D64D3C8>, _json={'created_at': 'Mon May 04 06:01:03 +0000 2020', 'id': 1257188472357564417, 'id_str': '1257188472357564417', 'text': 'RT @puma_chairo: Los cubrebocas N95 están indicados para uso exclusivo de quienes están en contacto directo con las vías respiratorias de u…', 'truncated': False, 'entities': {'hashtags': [], 'symbols': [], 'user_mentions': [{'screen_name': 'puma_chairo', 'name': 'Puma Chairo', 'id': 1097573435587194882, 'id_str': '1097573435587194882', 'indices': [3, 15]}], 'urls': []}, 'metadata': {'iso_language_code': 'es', 'result_type': 'recent'}, 'source': '<a href=\"http://twitter.com/download/android\" rel=\"nofollow\">Twitter for Android</a>', 'in_reply_to_status_id': None, 'in_reply_to_status_id_str': None, 'in_reply_to_user_id': None, 'in_reply_to_user_id_str': None, 'in_reply_to_screen_name': None, 'user': {'id': 2504689430, 'id_str': '2504689430', 'name': 'Guerrero Dann 👨🏽\\u200d💼 🦸🏽\\u200d♂️🥾🕶', 'screen_name': 'maccdann', 'location': 'CD México', 'description': 'ESPOSO, PAPÁ, HIJO, HERMANO, ME GUSTA EL MARKETING, SOY VENDEDOR, EMPRENDEDOR. \\nAMO MI MÉXICO LINDO 🇲🇽 👨\\u200d👧\\u200d👦', 'url': None, 'entities': {'description': {'urls': []}}, 'protected': False, 'followers_count': 359, 'friends_count': 971, 'listed_count': 6, 'created_at': 'Sun May 18 14:56:22 +0000 2014', 'favourites_count': 18694, 'utc_offset': None, 'time_zone': None, 'geo_enabled': False, 'verified': False, 'statuses_count': 22582, 'lang': None, 'contributors_enabled': False, 'is_translator': False, 'is_translation_enabled': False, 'profile_background_color': 'C0DEED', 'profile_background_image_url': 'http://abs.twimg.com/images/themes/theme1/bg.png', 'profile_background_image_url_https': 'https://abs.twimg.com/images/themes/theme1/bg.png', 'profile_background_tile': False, 'profile_image_url': 'http://pbs.twimg.com/profile_images/954087923573501958/pX27soPf_normal.jpg', 'profile_image_url_https': 'https://pbs.twimg.com/profile_images/954087923573501958/pX27soPf_normal.jpg', 'profile_banner_url': 'https://pbs.twimg.com/profile_banners/2504689430/1516307262', 'profile_link_color': '1DA1F2', 'profile_sidebar_border_color': 'C0DEED', 'profile_sidebar_fill_color': 'DDEEF6', 'profile_text_color': '333333', 'profile_use_background_image': True, 'has_extended_profile': False, 'default_profile': True, 'default_profile_image': False, 'following': False, 'follow_request_sent': False, 'notifications': False, 'translator_type': 'none'}, 'geo': None, 'coordinates': None, 'place': None, 'contributors': None, 'retweeted_status': {'created_at': 'Mon May 04 01:15:48 +0000 2020', 'id': 1257116683530977281, 'id_str': '1257116683530977281', 'text': 'Los cubrebocas N95 están indicados para uso exclusivo de quienes están en contacto directo con las vías respiratori… https://t.co/JtTPcfPG0Z', 'truncated': True, 'entities': {'hashtags': [], 'symbols': [], 'user_mentions': [], 'urls': [{'url': 'https://t.co/JtTPcfPG0Z', 'expanded_url': 'https://twitter.com/i/web/status/1257116683530977281', 'display_url': 'twitter.com/i/web/status/1…', 'indices': [117, 140]}]}, 'metadata': {'iso_language_code': 'es', 'result_type': 'recent'}, 'source': '<a href=\"https://mobile.twitter.com\" rel=\"nofollow\">Twitter Web App</a>', 'in_reply_to_status_id': None, 'in_reply_to_status_id_str': None, 'in_reply_to_user_id': None, 'in_reply_to_user_id_str': None, 'in_reply_to_screen_name': None, 'user': {'id': 1097573435587194882, 'id_str': '1097573435587194882', 'name': 'Puma Chairo', 'screen_name': 'puma_chairo', 'location': 'Corazón de AMLO', 'description': 'Chairo de corazón, contrabully, no trabajo, me mantienen y no soy una buena persona.', 'url': None, 'entities': {'description': {'urls': []}}, 'protected': False, 'followers_count': 3578, 'friends_count': 1140, 'listed_count': 7, 'created_at': 'Mon Feb 18 19:07:53 +0000 2019', 'favourites_count': 3930, 'utc_offset': None, 'time_zone': None, 'geo_enabled': False, 'verified': False, 'statuses_count': 3972, 'lang': None, 'contributors_enabled': False, 'is_translator': False, 'is_translation_enabled': False, 'profile_background_color': 'F5F8FA', 'profile_background_image_url': None, 'profile_background_image_url_https': None, 'profile_background_tile': False, 'profile_image_url': 'http://pbs.twimg.com/profile_images/1219081839328952320/bQuTIQfY_normal.jpg', 'profile_image_url_https': 'https://pbs.twimg.com/profile_images/1219081839328952320/bQuTIQfY_normal.jpg', 'profile_link_color': '1DA1F2', 'profile_sidebar_border_color': 'C0DEED', 'profile_sidebar_fill_color': 'DDEEF6', 'profile_text_color': '333333', 'profile_use_background_image': True, 'has_extended_profile': False, 'default_profile': True, 'default_profile_image': False, 'following': False, 'follow_request_sent': False, 'notifications': False, 'translator_type': 'none'}, 'geo': None, 'coordinates': None, 'place': None, 'contributors': None, 'is_quote_status': False, 'retweet_count': 104, 'favorite_count': 168, 'favorited': False, 'retweeted': False, 'possibly_sensitive': False, 'lang': 'es'}, 'is_quote_status': False, 'retweet_count': 104, 'favorite_count': 0, 'favorited': False, 'retweeted': False, 'lang': 'es'}, created_at=datetime.datetime(2020, 5, 4, 6, 1, 3), id=1257188472357564417, id_str='1257188472357564417', text='RT @puma_chairo: Los cubrebocas N95 están indicados para uso exclusivo de quienes están en contacto directo con las vías respiratorias de u…', truncated=False, entities={'hashtags': [], 'symbols': [], 'user_mentions': [{'screen_name': 'puma_chairo', 'name': 'Puma Chairo', 'id': 1097573435587194882, 'id_str': '1097573435587194882', 'indices': [3, 15]}], 'urls': []}, metadata={'iso_language_code': 'es', 'result_type': 'recent'}, source='Twitter for Android', source_url='http://twitter.com/download/android', in_reply_to_status_id=None, in_reply_to_status_id_str=None, in_reply_to_user_id=None, in_reply_to_user_id_str=None, in_reply_to_screen_name=None, author=User(_api=<tweepy.api.API object at 0x000001639D64D3C8>, _json={'id': 2504689430, 'id_str': '2504689430', 'name': 'Guerrero Dann 👨🏽\\u200d💼 🦸🏽\\u200d♂️🥾🕶', 'screen_name': 'maccdann', 'location': 'CD México', 'description': 'ESPOSO, PAPÁ, HIJO, HERMANO, ME GUSTA EL MARKETING, SOY VENDEDOR, EMPRENDEDOR. \\nAMO MI MÉXICO LINDO 🇲🇽 👨\\u200d👧\\u200d👦', 'url': None, 'entities': {'description': {'urls': []}}, 'protected': False, 'followers_count': 359, 'friends_count': 971, 'listed_count': 6, 'created_at': 'Sun May 18 14:56:22 +0000 2014', 'favourites_count': 18694, 'utc_offset': None, 'time_zone': None, 'geo_enabled': False, 'verified': False, 'statuses_count': 22582, 'lang': None, 'contributors_enabled': False, 'is_translator': False, 'is_translation_enabled': False, 'profile_background_color': 'C0DEED', 'profile_background_image_url': 'http://abs.twimg.com/images/themes/theme1/bg.png', 'profile_background_image_url_https': 'https://abs.twimg.com/images/themes/theme1/bg.png', 'profile_background_tile': False, 'profile_image_url': 'http://pbs.twimg.com/profile_images/954087923573501958/pX27soPf_normal.jpg', 'profile_image_url_https': 'https://pbs.twimg.com/profile_images/954087923573501958/pX27soPf_normal.jpg', 'profile_banner_url': 'https://pbs.twimg.com/profile_banners/2504689430/1516307262', 'profile_link_color': '1DA1F2', 'profile_sidebar_border_color': 'C0DEED', 'profile_sidebar_fill_color': 'DDEEF6', 'profile_text_color': '333333', 'profile_use_background_image': True, 'has_extended_profile': False, 'default_profile': True, 'default_profile_image': False, 'following': False, 'follow_request_sent': False, 'notifications': False, 'translator_type': 'none'}, id=2504689430, id_str='2504689430', name='Guerrero Dann 👨🏽\\u200d💼 🦸🏽\\u200d♂️🥾🕶', screen_name='maccdann', location='CD México', description='ESPOSO, PAPÁ, HIJO, HERMANO, ME GUSTA EL MARKETING, SOY VENDEDOR, EMPRENDEDOR. \\nAMO MI MÉXICO LINDO 🇲🇽 👨\\u200d👧\\u200d👦', url=None, entities={'description': {'urls': []}}, protected=False, followers_count=359, friends_count=971, listed_count=6, created_at=datetime.datetime(2014, 5, 18, 14, 56, 22), favourites_count=18694, utc_offset=None, time_zone=None, geo_enabled=False, verified=False, statuses_count=22582, lang=None, contributors_enabled=False, is_translator=False, is_translation_enabled=False, profile_background_color='C0DEED', profile_background_image_url='http://abs.twimg.com/images/themes/theme1/bg.png', profile_background_image_url_https='https://abs.twimg.com/images/themes/theme1/bg.png', profile_background_tile=False, profile_image_url='http://pbs.twimg.com/profile_images/954087923573501958/pX27soPf_normal.jpg', profile_image_url_https='https://pbs.twimg.com/profile_images/954087923573501958/pX27soPf_normal.jpg', profile_banner_url='https://pbs.twimg.com/profile_banners/2504689430/1516307262', profile_link_color='1DA1F2', profile_sidebar_border_color='C0DEED', profile_sidebar_fill_color='DDEEF6', profile_text_color='333333', profile_use_background_image=True, has_extended_profile=False, default_profile=True, default_profile_image=False, following=False, follow_request_sent=False, notifications=False, translator_type='none'), user=User(_api=<tweepy.api.API object at 0x000001639D64D3C8>, _json={'id': 2504689430, 'id_str': '2504689430', 'name': 'Guerrero Dann 👨🏽\\u200d💼 🦸🏽\\u200d♂️🥾🕶', 'screen_name': 'maccdann', 'location': 'CD México', 'description': 'ESPOSO, PAPÁ, HIJO, HERMANO, ME GUSTA EL MARKETING, SOY VENDEDOR, EMPRENDEDOR. \\nAMO MI MÉXICO LINDO 🇲🇽 👨\\u200d👧\\u200d👦', 'url': None, 'entities': {'description': {'urls': []}}, 'protected': False, 'followers_count': 359, 'friends_count': 971, 'listed_count': 6, 'created_at': 'Sun May 18 14:56:22 +0000 2014', 'favourites_count': 18694, 'utc_offset': None, 'time_zone': None, 'geo_enabled': False, 'verified': False, 'statuses_count': 22582, 'lang': None, 'contributors_enabled': False, 'is_translator': False, 'is_translation_enabled': False, 'profile_background_color': 'C0DEED', 'profile_background_image_url': 'http://abs.twimg.com/images/themes/theme1/bg.png', 'profile_background_image_url_https': 'https://abs.twimg.com/images/themes/theme1/bg.png', 'profile_background_tile': False, 'profile_image_url': 'http://pbs.twimg.com/profile_images/954087923573501958/pX27soPf_normal.jpg', 'profile_image_url_https': 'https://pbs.twimg.com/profile_images/954087923573501958/pX27soPf_normal.jpg', 'profile_banner_url': 'https://pbs.twimg.com/profile_banners/2504689430/1516307262', 'profile_link_color': '1DA1F2', 'profile_sidebar_border_color': 'C0DEED', 'profile_sidebar_fill_color': 'DDEEF6', 'profile_text_color': '333333', 'profile_use_background_image': True, 'has_extended_profile': False, 'default_profile': True, 'default_profile_image': False, 'following': False, 'follow_request_sent': False, 'notifications': False, 'translator_type': 'none'}, id=2504689430, id_str='2504689430', name='Guerrero Dann 👨🏽\\u200d💼 🦸🏽\\u200d♂️🥾🕶', screen_name='maccdann', location='CD México', description='ESPOSO, PAPÁ, HIJO, HERMANO, ME GUSTA EL MARKETING, SOY VENDEDOR, EMPRENDEDOR. \\nAMO MI MÉXICO LINDO 🇲🇽 👨\\u200d👧\\u200d👦', url=None, entities={'description': {'urls': []}}, protected=False, followers_count=359, friends_count=971, listed_count=6, created_at=datetime.datetime(2014, 5, 18, 14, 56, 22), favourites_count=18694, utc_offset=None, time_zone=None, geo_enabled=False, verified=False, statuses_count=22582, lang=None, contributors_enabled=False, is_translator=False, is_translation_enabled=False, profile_background_color='C0DEED', profile_background_image_url='http://abs.twimg.com/images/themes/theme1/bg.png', profile_background_image_url_https='https://abs.twimg.com/images/themes/theme1/bg.png', profile_background_tile=False, profile_image_url='http://pbs.twimg.com/profile_images/954087923573501958/pX27soPf_normal.jpg', profile_image_url_https='https://pbs.twimg.com/profile_images/954087923573501958/pX27soPf_normal.jpg', profile_banner_url='https://pbs.twimg.com/profile_banners/2504689430/1516307262', profile_link_color='1DA1F2', profile_sidebar_border_color='C0DEED', profile_sidebar_fill_color='DDEEF6', profile_text_color='333333', profile_use_background_image=True, has_extended_profile=False, default_profile=True, default_profile_image=False, following=False, follow_request_sent=False, notifications=False, translator_type='none'), geo=None, coordinates=None, place=None, contributors=None, retweeted_status=Status(_api=<tweepy.api.API object at 0x000001639D64D3C8>, _json={'created_at': 'Mon May 04 01:15:48 +0000 2020', 'id': 1257116683530977281, 'id_str': '1257116683530977281', 'text': 'Los cubrebocas N95 están indicados para uso exclusivo de quienes están en contacto directo con las vías respiratori… https://t.co/JtTPcfPG0Z', 'truncated': True, 'entities': {'hashtags': [], 'symbols': [], 'user_mentions': [], 'urls': [{'url': 'https://t.co/JtTPcfPG0Z', 'expanded_url': 'https://twitter.com/i/web/status/1257116683530977281', 'display_url': 'twitter.com/i/web/status/1…', 'indices': [117, 140]}]}, 'metadata': {'iso_language_code': 'es', 'result_type': 'recent'}, 'source': '<a href=\"https://mobile.twitter.com\" rel=\"nofollow\">Twitter Web App</a>', 'in_reply_to_status_id': None, 'in_reply_to_status_id_str': None, 'in_reply_to_user_id': None, 'in_reply_to_user_id_str': None, 'in_reply_to_screen_name': None, 'user': {'id': 1097573435587194882, 'id_str': '1097573435587194882', 'name': 'Puma Chairo', 'screen_name': 'puma_chairo', 'location': 'Corazón de AMLO', 'description': 'Chairo de corazón, contrabully, no trabajo, me mantienen y no soy una buena persona.', 'url': None, 'entities': {'description': {'urls': []}}, 'protected': False, 'followers_count': 3578, 'friends_count': 1140, 'listed_count': 7, 'created_at': 'Mon Feb 18 19:07:53 +0000 2019', 'favourites_count': 3930, 'utc_offset': None, 'time_zone': None, 'geo_enabled': False, 'verified': False, 'statuses_count': 3972, 'lang': None, 'contributors_enabled': False, 'is_translator': False, 'is_translation_enabled': False, 'profile_background_color': 'F5F8FA', 'profile_background_image_url': None, 'profile_background_image_url_https': None, 'profile_background_tile': False, 'profile_image_url': 'http://pbs.twimg.com/profile_images/1219081839328952320/bQuTIQfY_normal.jpg', 'profile_image_url_https': 'https://pbs.twimg.com/profile_images/1219081839328952320/bQuTIQfY_normal.jpg', 'profile_link_color': '1DA1F2', 'profile_sidebar_border_color': 'C0DEED', 'profile_sidebar_fill_color': 'DDEEF6', 'profile_text_color': '333333', 'profile_use_background_image': True, 'has_extended_profile': False, 'default_profile': True, 'default_profile_image': False, 'following': False, 'follow_request_sent': False, 'notifications': False, 'translator_type': 'none'}, 'geo': None, 'coordinates': None, 'place': None, 'contributors': None, 'is_quote_status': False, 'retweet_count': 104, 'favorite_count': 168, 'favorited': False, 'retweeted': False, 'possibly_sensitive': False, 'lang': 'es'}, created_at=datetime.datetime(2020, 5, 4, 1, 15, 48), id=1257116683530977281, id_str='1257116683530977281', text='Los cubrebocas N95 están indicados para uso exclusivo de quienes están en contacto directo con las vías respiratori… https://t.co/JtTPcfPG0Z', truncated=True, entities={'hashtags': [], 'symbols': [], 'user_mentions': [], 'urls': [{'url': 'https://t.co/JtTPcfPG0Z', 'expanded_url': 'https://twitter.com/i/web/status/1257116683530977281', 'display_url': 'twitter.com/i/web/status/1…', 'indices': [117, 140]}]}, metadata={'iso_language_code': 'es', 'result_type': 'recent'}, source='Twitter Web App', source_url='https://mobile.twitter.com', in_reply_to_status_id=None, in_reply_to_status_id_str=None, in_reply_to_user_id=None, in_reply_to_user_id_str=None, in_reply_to_screen_name=None, author=User(_api=<tweepy.api.API object at 0x000001639D64D3C8>, _json={'id': 1097573435587194882, 'id_str': '1097573435587194882', 'name': 'Puma Chairo', 'screen_name': 'puma_chairo', 'location': 'Corazón de AMLO', 'description': 'Chairo de corazón, contrabully, no trabajo, me mantienen y no soy una buena persona.', 'url': None, 'entities': {'description': {'urls': []}}, 'protected': False, 'followers_count': 3578, 'friends_count': 1140, 'listed_count': 7, 'created_at': 'Mon Feb 18 19:07:53 +0000 2019', 'favourites_count': 3930, 'utc_offset': None, 'time_zone': None, 'geo_enabled': False, 'verified': False, 'statuses_count': 3972, 'lang': None, 'contributors_enabled': False, 'is_translator': False, 'is_translation_enabled': False, 'profile_background_color': 'F5F8FA', 'profile_background_image_url': None, 'profile_background_image_url_https': None, 'profile_background_tile': False, 'profile_image_url': 'http://pbs.twimg.com/profile_images/1219081839328952320/bQuTIQfY_normal.jpg', 'profile_image_url_https': 'https://pbs.twimg.com/profile_images/1219081839328952320/bQuTIQfY_normal.jpg', 'profile_link_color': '1DA1F2', 'profile_sidebar_border_color': 'C0DEED', 'profile_sidebar_fill_color': 'DDEEF6', 'profile_text_color': '333333', 'profile_use_background_image': True, 'has_extended_profile': False, 'default_profile': True, 'default_profile_image': False, 'following': False, 'follow_request_sent': False, 'notifications': False, 'translator_type': 'none'}, id=1097573435587194882, id_str='1097573435587194882', name='Puma Chairo', screen_name='puma_chairo', location='Corazón de AMLO', description='Chairo de corazón, contrabully, no trabajo, me mantienen y no soy una buena persona.', url=None, entities={'description': {'urls': []}}, protected=False, followers_count=3578, friends_count=1140, listed_count=7, created_at=datetime.datetime(2019, 2, 18, 19, 7, 53), favourites_count=3930, utc_offset=None, time_zone=None, geo_enabled=False, verified=False, statuses_count=3972, lang=None, contributors_enabled=False, is_translator=False, is_translation_enabled=False, profile_background_color='F5F8FA', profile_background_image_url=None, profile_background_image_url_https=None, profile_background_tile=False, profile_image_url='http://pbs.twimg.com/profile_images/1219081839328952320/bQuTIQfY_normal.jpg', profile_image_url_https='https://pbs.twimg.com/profile_images/1219081839328952320/bQuTIQfY_normal.jpg', profile_link_color='1DA1F2', profile_sidebar_border_color='C0DEED', profile_sidebar_fill_color='DDEEF6', profile_text_color='333333', profile_use_background_image=True, has_extended_profile=False, default_profile=True, default_profile_image=False, following=False, follow_request_sent=False, notifications=False, translator_type='none'), user=User(_api=<tweepy.api.API object at 0x000001639D64D3C8>, _json={'id': 1097573435587194882, 'id_str': '1097573435587194882', 'name': 'Puma Chairo', 'screen_name': 'puma_chairo', 'location': 'Corazón de AMLO', 'description': 'Chairo de corazón, contrabully, no trabajo, me mantienen y no soy una buena persona.', 'url': None, 'entities': {'description': {'urls': []}}, 'protected': False, 'followers_count': 3578, 'friends_count': 1140, 'listed_count': 7, 'created_at': 'Mon Feb 18 19:07:53 +0000 2019', 'favourites_count': 3930, 'utc_offset': None, 'time_zone': None, 'geo_enabled': False, 'verified': False, 'statuses_count': 3972, 'lang': None, 'contributors_enabled': False, 'is_translator': False, 'is_translation_enabled': False, 'profile_background_color': 'F5F8FA', 'profile_background_image_url': None, 'profile_background_image_url_https': None, 'profile_background_tile': False, 'profile_image_url': 'http://pbs.twimg.com/profile_images/1219081839328952320/bQuTIQfY_normal.jpg', 'profile_image_url_https': 'https://pbs.twimg.com/profile_images/1219081839328952320/bQuTIQfY_normal.jpg', 'profile_link_color': '1DA1F2', 'profile_sidebar_border_color': 'C0DEED', 'profile_sidebar_fill_color': 'DDEEF6', 'profile_text_color': '333333', 'profile_use_background_image': True, 'has_extended_profile': False, 'default_profile': True, 'default_profile_image': False, 'following': False, 'follow_request_sent': False, 'notifications': False, 'translator_type': 'none'}, id=1097573435587194882, id_str='1097573435587194882', name='Puma Chairo', screen_name='puma_chairo', location='Corazón de AMLO', description='Chairo de corazón, contrabully, no trabajo, me mantienen y no soy una buena persona.', url=None, entities={'description': {'urls': []}}, protected=False, followers_count=3578, friends_count=1140, listed_count=7, created_at=datetime.datetime(2019, 2, 18, 19, 7, 53), favourites_count=3930, utc_offset=None, time_zone=None, geo_enabled=False, verified=False, statuses_count=3972, lang=None, contributors_enabled=False, is_translator=False, is_translation_enabled=False, profile_background_color='F5F8FA', profile_background_image_url=None, profile_background_image_url_https=None, profile_background_tile=False, profile_image_url='http://pbs.twimg.com/profile_images/1219081839328952320/bQuTIQfY_normal.jpg', profile_image_url_https='https://pbs.twimg.com/profile_images/1219081839328952320/bQuTIQfY_normal.jpg', profile_link_color='1DA1F2', profile_sidebar_border_color='C0DEED', profile_sidebar_fill_color='DDEEF6', profile_text_color='333333', profile_use_background_image=True, has_extended_profile=False, default_profile=True, default_profile_image=False, following=False, follow_request_sent=False, notifications=False, translator_type='none'), geo=None, coordinates=None, place=None, contributors=None, is_quote_status=False, retweet_count=104, favorite_count=168, favorited=False, retweeted=False, possibly_sensitive=False, lang='es'), is_quote_status=False, retweet_count=104, favorite_count=0, favorited=False, retweeted=False, lang='es')"
      ]
     },
     "execution_count": 24,
     "metadata": {},
     "output_type": "execute_result"
    }
   ],
   "source": [
    "tweet_list2[0]"
   ]
  },
  {
   "cell_type": "code",
   "execution_count": 48,
   "metadata": {},
   "outputs": [],
   "source": [
    "#We can use the dir command to view a list of the attributes of each tweet\n",
    "dir(tweet_list[0]) #mask"
   ]
  },
  {
   "cell_type": "code",
   "execution_count": 44,
   "metadata": {},
   "outputs": [
    {
     "data": {
      "text/plain": [
       "[\"RT @Ellethevillain: Y'all, the mask goes OVER your nose.\",\n",
       " 'RT @Sherni_15: 👉 Say no to handshake , adopt namaste .\\n👉 Wear mask when u go outside .\\n👉 Keep it home nd surrounding clean regularly .\\n👉 Wa…',\n",
       " 'RT @USMCSDI: Some asshole in Walmart asked me why I was going down the wrong side of the aisle and why wasn\\'t I wearing a mask\\n\\nI said \"bec…',\n",
       " 'RT @sanjayjavin: #BiharFightsCorona continuing   outcome of the door to door survey for the period 16-3/5/2020 in all 4+34 districts.please…',\n",
       " 'RT @rosette_thake: “Joseph Muscat applied his charm and appeal to get other countries to get migrants off his back. But when his mask fell…',\n",
       " \"RT @Ellethevillain: Y'all, the mask goes OVER your nose.\",\n",
       " '@NozukoPikoli True, the rationale for wearing a mask has been misunderstood. Education is also important in this regard.',\n",
       " \"RT @Ellethevillain: Y'all, the mask goes OVER your nose.\",\n",
       " 'RT @snehmeet61: #LetsStaySafe\\n@derasachasauda urges everyone to follow the guidelines of the government and stay safe from Coronavirus.Incl…',\n",
       " 'RT @TahaAdam_: My brothers and sisters in Kano kindly stay at home, dont go out if you dont have anything to do outside, and when you go ou…',\n",
       " 'RT @SteveStuWill: “Models show that if 80 percent of people wear masks that are 60 percent effective, easily achievable with cloth, we can…']"
      ]
     },
     "execution_count": 44,
     "metadata": {},
     "output_type": "execute_result"
    }
   ],
   "source": [
    "#Let's display the text of each tweet we found.\n",
    "[tweet.text for tweet in tweet_list]"
   ]
  },
  {
   "cell_type": "markdown",
   "metadata": {},
   "source": [
    "By default, the REST API returns 15 tweets.  We can get up to 100 by using the argument \"count\"."
   ]
  },
  {
   "cell_type": "code",
   "execution_count": 29,
   "metadata": {},
   "outputs": [
    {
     "data": {
      "text/plain": [
       "100"
      ]
     },
     "execution_count": 29,
     "metadata": {},
     "output_type": "execute_result"
    }
   ],
   "source": [
    "tweet_list1 = api.search(q='mask', count = 100)\n",
    "len(tweet_list1)"
   ]
  },
  {
   "cell_type": "code",
   "execution_count": 30,
   "metadata": {},
   "outputs": [
    {
     "data": {
      "text/plain": [
       "100"
      ]
     },
     "execution_count": 30,
     "metadata": {},
     "output_type": "execute_result"
    }
   ],
   "source": [
    "tweet_list2 = api.search(q='n95', count = 100)\n",
    "len(tweet_list2)"
   ]
  },
  {
   "cell_type": "markdown",
   "metadata": {},
   "source": [
    "If we want more than 100 tweets, we can use a *while* loop.  The max_id argument lets us collect tweets that are older than a particular tweet index (in this case, the oldest tweet we've seen so far).\n",
    "\n",
    "The `try/except/else` structure lets us fail gracefully in case the API search returns an error (e.g., if we run up against Twitter's rate limits)."
   ]
  },
  {
   "cell_type": "code",
   "execution_count": 34,
   "metadata": {
    "scrolled": true
   },
   "outputs": [
    {
     "data": {
      "text/plain": [
       "['RT @PressSec: President @realDonaldTrump has led the greatest mobilization since WWII:\\n\\n➡️75M N95 masks delivered\\n\\n📈3x more than typically…',\n",
       " 'Mascarillas N95  $1,50\\n0999219361 en Quito, Ecuador https://t.co/aKt41JTdID',\n",
       " 'RT @PressSec: President @realDonaldTrump has led the greatest mobilization since WWII:\\n\\n➡️75M N95 masks delivered\\n\\n📈3x more than typically…',\n",
       " 'RT @anandrai177: This kind of N95 masks supplied to health workers,fungus coated mask,packaging of PPE and mask is more important,storage a…',\n",
       " 'RT @juandipino: Repitan conmigo:\\n\\nImprimir N95 en mi mascarilla y tener registro Sanitario, NO HACE que NIOSH la apruebe.\\n\\nDejemos de falsi…',\n",
       " 'RT @Vincent198964: 刚才与一位武汉的医生通电话，武汉的医院现在不敢开中央空调，气温已经突破33摄氏度。医护人员还要穿防护服戴N95口罩上班，病房像火山口一样难受。。。\\n什么时候，共产党都是这样无人性的折磨人，只是再过几个星期，武汉进入夏天，恐怕谁也坚持不了',\n",
       " '↓\\nＡさん大慌てで私に謝罪、連絡途切れる\\n↓\\nどうやら現在夫婦間で大揉めしてるらしく、配偶者と思しきアカウントから直接DM爆撃が来る様になる←今ｺｺ\\n\\nN95を5枚重ねで100メートルダッシュとかさせてみようかしら。\\n\\nしかし、何と言うか、こう、民度って……。',\n",
       " 'RT @PressSec: President @realDonaldTrump has led the greatest mobilization since WWII:\\n\\n➡️75M N95 masks delivered\\n\\n📈3x more than typically…',\n",
       " 'RT @takeo_ooi: 長野県立こども病院\\u3000中村院長からのお願いをシェアします。\\nＮ９５マスクをお持ちの方がいらっしゃいましたら、ご協力、お願いいたします。\\nhttps://t.co/faXT8ywPs5 https://t.co/CZUDXjb51t',\n",
       " 'RT @blogTO: Toronto hospital tests out snorkel face masks in case of N95 shortage https://t.co/mzu30odxnC #Toronto https://t.co/Pn4FA1hCLN',\n",
       " 'RT @anandrai177: This kind of N95 masks supplied to health workers,fungus coated mask,packaging of PPE and mask is more important,storage a…',\n",
       " '@LarryBoorstein @WhiteHouse @WHO Yes, #CCPChina alert ppl to use N95 masks, but they refused 3M Chinese factories from exporting them to US.',\n",
       " 'RT @tsuneeet: N95マスクを使い回す現場が多い今日この頃、ついN95にお呪い的にアルコールを噴射したくなるかもしれませんが禁忌中の禁忌です。N95マスクは繊維間の静電気の力で微粒子を吸着してますが、アルコールをかけるとマスクの3次元構造が崩壊して性能激減、普通のマ…',\n",
       " 'RT @DonZurda: Si Pablo Arosemena fuera el presidente, la cuarentena hubiera durado una semana. Habría dictado por ley reducción de sueldos…',\n",
       " 'RT @anandrai177: This kind of N95 masks supplied to health workers,fungus coated mask,packaging of PPE and mask is more important,storage a…',\n",
       " 'Minimum price of N95 masks is 250 Rs, why it is so costly yet? \\n @CMOMaharashtra @mygovindia @mybmc @PMOIndia… https://t.co/XmJ27YVwfq',\n",
       " '@GavinNewsom\\nAnd how many did you buy from China?⬇️\\n\\nImported N95-style masks fall short on standards, potentially… https://t.co/yKiGGnqyrr',\n",
       " 'RT @Aldider: Nos dieron cubrebocas N95 de un lote que ya no sirve, acusan médicos de hospital del IMSS https://t.co/6JFMZbMISd',\n",
       " 'RT @CDCgov: Given the shortage of N95 respirators during this global outbreak of #COVID19, it’s important to understand the difference betw…',\n",
       " 'RT @tsuneeet: N95マスクを使い回す現場が多い今日この頃、ついN95にお呪い的にアルコールを噴射したくなるかもしれませんが禁忌中の禁忌です。N95マスクは繊維間の静電気の力で微粒子を吸着してますが、アルコールをかけるとマスクの3次元構造が崩壊して性能激減、普通のマ…',\n",
       " 'RT @ncchd_pr: N95マスク、防護服の寄付でご連絡くださった皆様ありがとうございます。\\n＜送付はこちら＞\\n国立研究開発法人 国立成育医療研究センター\\u3000総務課\\n\\u3000\\u3000\\u3000\\u3000〒157-8535 東京都世田谷区大蔵2-10-1\\n\\n未開封、未使用のものは古くても受け付けています…',\n",
       " 'RT @jikeiOBorche: 【拡散希望】慈恵医大付属病院でもコロナ患者さんの診療に当たっておりますが、医療用のN95マスクが不足しています。もし、ご自宅や会社などでN95マスクをお持ちの方は、分けていただけないでしょうか？たとえ1枚でも大変ありがたいです。私たちの仲間に…',\n",
       " 'Acabo de volver más cómoda una n95 porfa díganme que no la he cagado https://t.co/Ric6cq7j2k',\n",
       " 'RT @ncchd_pr: N95マスクと防護服が不足しています！！\\nご寄付いただける方がいらっしゃいましたらkoho@ncchd.go.jpご連絡いただければ幸いです。（営業のご連絡はご遠慮ください）\\nN95マスクと防護服以外のご寄付の申し込み方法については、https://…',\n",
       " 'Imported N95-style masks fall short on standards, potentially put Americans at risk for coronavirus\\n\\nhttps://t.co/IknIltdZxP',\n",
       " 'RT @anandrai177: This kind of N95 masks supplied to health workers,fungus coated mask,packaging of PPE and mask is more important,storage a…',\n",
       " 'RT @tsuneeet: N95マスクを使い回す現場が多い今日この頃、ついN95にお呪い的にアルコールを噴射したくなるかもしれませんが禁忌中の禁忌です。N95マスクは繊維間の静電気の力で微粒子を吸着してますが、アルコールをかけるとマスクの3次元構造が崩壊して性能激減、普通のマ…',\n",
       " '@virajanand @meevkt @amityadav26 @abhiawakes @JagmendraR @BishnoiRashi @BJPLive @DRASHUTOSHKrDUB @NeerajAmbuj @WHO… https://t.co/hEEIc2HiUc',\n",
       " 'RT @tsuneeet: N95マスクを使い回す現場が多い今日この頃、ついN95にお呪い的にアルコールを噴射したくなるかもしれませんが禁忌中の禁忌です。N95マスクは繊維間の静電気の力で微粒子を吸着してますが、アルコールをかけるとマスクの3次元構造が崩壊して性能激減、普通のマ…',\n",
       " 'RT @anandrai177: This kind of N95 masks supplied to health workers,fungus coated mask,packaging of PPE and mask is more important,storage a…',\n",
       " 'RT @anandrai177: This kind of N95 masks supplied to health workers,fungus coated mask,packaging of PPE and mask is more important,storage a…',\n",
       " 'RT @tsuneeet: N95マスクを使い回す現場が多い今日この頃、ついN95にお呪い的にアルコールを噴射したくなるかもしれませんが禁忌中の禁忌です。N95マスクは繊維間の静電気の力で微粒子を吸着してますが、アルコールをかけるとマスクの3次元構造が崩壊して性能激減、普通のマ…',\n",
       " '@Licuadodeduraz4 @oscaratienza @MigueliusPaz @horaciorlarreta Son barbijos N95 los que se compraron infradotado, in… https://t.co/BjiVhB0jvM',\n",
       " 'RT @LambaAlka: @iamsrk @abhisar_sharma @iamsrk सर, मैं पक्की #दिल्ली वाली हूँ, आपका दिल से आभार प्रकट करती हूँ कि आप ने दिल्ली वाले अपने भा…',\n",
       " 'RT @tsuneeet: N95マスクを使い回す現場が多い今日この頃、ついN95にお呪い的にアルコールを噴射したくなるかもしれませんが禁忌中の禁忌です。N95マスクは繊維間の静電気の力で微粒子を吸着してますが、アルコールをかけるとマスクの3次元構造が崩壊して性能激減、普通のマ…',\n",
       " \"RT @MiuiBlog: #Huami ha sviluppato una maschera #N95 che ci consente di utilizzare l'Unlock Face sul nostro smartphone\\n#Xiaomi #Coronavirus…\",\n",
       " 'RT @PressSec: President @realDonaldTrump has led the greatest mobilization since WWII:\\n\\n➡️75M N95 masks delivered\\n\\n📈3x more than typically…',\n",
       " 'RT @PressSec: President @realDonaldTrump has led the greatest mobilization since WWII:\\n\\n➡️75M N95 masks delivered\\n\\n📈3x more than typically…',\n",
       " \"@EmanCanyonlakec @80sbettychic @Carlos_Saucedo @KTLA Gloves are worthless and masks are next to useless unless it's… https://t.co/IOlRSCOTkJ\",\n",
       " 'RT @PressSec: President @realDonaldTrump has led the greatest mobilization since WWII:\\n\\n➡️75M N95 masks delivered\\n\\n📈3x more than typically…',\n",
       " 'RT @PressSec: President @realDonaldTrump has led the greatest mobilization since WWII:\\n\\n➡️75M N95 masks delivered\\n\\n📈3x more than typically…',\n",
       " 'RT @PDChinaSports: Do not wear #N95 masks when doing sports, medical experts warned, as such method could cause irreversible damage to resp…',\n",
       " \"RT @bitcoinconnect: Donald Trump's defense of Michael Flynn and Roger Stone is a giant gaslight Get You Mask and Covers Here! https://t.co/…\",\n",
       " 'RT @kenmomd: 西村 秀一、阪田総一郎. N95マスクのアルコールによる消毒は禁忌\\nhttps://t.co/iOS9kMBJED\\n「アルコール消毒によって性能が劣化することが示された。とくにＮ95マスクにおける劣化は著しく、サージカルマスク以下の性能となった」\\n「一…',\n",
       " 'RT @puma_chairo: Los cubrebocas N95 están indicados para uso exclusivo de quienes están en contacto directo con las vías respiratorias de u…',\n",
       " '@FitSurgeon auténtico sello de originalidad N95 las especificaciones perineales... je je',\n",
       " \"Donald Trump's defense of Michael Flynn and Roger Stone is a giant gaslight Get You Mask and Covers Here!… https://t.co/7F2V8bChUn\",\n",
       " 'RT @anandrai177: This kind of N95 masks supplied to health workers,fungus coated mask,packaging of PPE and mask is more important,storage a…',\n",
       " 'RT @PressSec: President @realDonaldTrump has led the greatest mobilization since WWII:\\n\\n➡️75M N95 masks delivered\\n\\n📈3x more than typically…',\n",
       " 'RT @puma_chairo: Los cubrebocas N95 están indicados para uso exclusivo de quienes están en contacto directo con las vías respiratorias de u…',\n",
       " 'This kind of N95 masks supplied to health workers,fungus coated mask,packaging of PPE and mask is more important,st… https://t.co/2t8VwmTyiE',\n",
       " '@elcomerciocom En el video utilizan mal las mascarrillas,ahí están utilizando una mascarilla quirúrgica debajo de u… https://t.co/eiziz1s02F',\n",
       " 'RT @WeraReynoso: Con lo que perdió PEMEX en este primer trimestre, se pudieron haber comprado 100 mil ventiladores, 30 millones de trajes d…',\n",
       " 'Imported N95-style masks fall short on standards, potentially put Americans at risk for coronavirus… https://t.co/iPQC8xDDk6',\n",
       " 'RT @tsuneeet: N95マスクを使い回す現場が多い今日この頃、ついN95にお呪い的にアルコールを噴射したくなるかもしれませんが禁忌中の禁忌です。N95マスクは繊維間の静電気の力で微粒子を吸着してますが、アルコールをかけるとマスクの3次元構造が崩壊して性能激減、普通のマ…',\n",
       " 'RT @koorinono: @tsuneeet https://t.co/nMK0riIKyA\\n\\n厚労省の、\\n\\n・1人に5枚のN95 マスクを配布し、5 日間のサイクルで毎日取り替える再利用法\\n\\nってのありますね。',\n",
       " 'RT @Gordon96128635: @jsolomonReports President Trump should impose a 95% tariff on the incoming n95 masks wherein Gavin Newsome pilfered a…',\n",
       " 'Los Angeles has struck a deal with $HON for 24 million N95 masks. https://t.co/STmJz5TVt4',\n",
       " '@serina8787 暑いよね最近…\\nこっちなんて30度とかあったし',\n",
       " 'RT @PressSec: President @realDonaldTrump has led the greatest mobilization since WWII:\\n\\n➡️75M N95 masks delivered\\n\\n📈3x more than typically…',\n",
       " 'RT @dax_touronegro: Stop using surgical and N95 masks and use cloth masks instead, says health ministry https://t.co/Z2JkD1r28m',\n",
       " 'RT @tsuneeet: N95マスクを使い回す現場が多い今日この頃、ついN95にお呪い的にアルコールを噴射したくなるかもしれませんが禁忌中の禁忌です。N95マスクは繊維間の静電気の力で微粒子を吸着してますが、アルコールをかけるとマスクの3次元構造が崩壊して性能激減、普通のマ…',\n",
       " '2016 Mask Off\\n2018 Charcoal face Masks\\n2020 N95 face Mask 😷',\n",
       " 'RT @ContradictoOK: 4000 respiradores nacionales\\n32 millones de barbijos calidad quirúrgica nacionales\\n32 millones de kits camisolin calidad…',\n",
       " 'RT @PressSec: President @realDonaldTrump has led the greatest mobilization since WWII:\\n\\n➡️75M N95 masks delivered\\n\\n📈3x more than typically…',\n",
       " 'RT @RobRobbEdwards: According to China In Focus\\n\\nChina intentionally hid virus evidence: new intel; Footage from N95 mask factory raises co…',\n",
       " '@2wintG まぁそうだろうね…幸せならそれでOKで',\n",
       " 'as air access to pikin go reduce.\\n\\n3) Even people wey dey make N95 wey be one of the baba facemask...no approve am… https://t.co/LmXY0mSYO9',\n",
       " 'RT @CaitJackowski: @bessbell I have family who knows what I do, what I’m seeing and they still call it bullshit. They have the balls to ask…',\n",
       " 'RT @ncchd_pr: N95マスクと防護服が不足しています！！\\nご寄付いただける方がいらっしゃいましたらkoho@ncchd.go.jpご連絡いただければ幸いです。（営業のご連絡はご遠慮ください）\\nN95マスクと防護服以外のご寄付の申し込み方法については、https://…',\n",
       " 'RT @sosorasora3: サージカルマスク装着、手袋やゴーグルはせず、手洗は1日4、5回の看護師は感染。\\nＮ95と手袋を常に着用、ゴーグルもして、せっけん手洗いを1日7～8\\n回していた感染管理認定看護師は感染せず、と。\\nN95を届けないと\\n●患者と接触60分、手にウイル…',\n",
       " '@WilliamAEden This chart from 3M delineates the difference. 3M includes scare quotes around the word \"equivalent\" t… https://t.co/RoD8jbgYQK',\n",
       " 'RT @Daisy_Three: Nung panahon na yan, may mabibili pa na n95 masks.  #ALDUBKalyeSeryeAngSimula',\n",
       " 'RT @puma_chairo: Los cubrebocas N95 están indicados para uso exclusivo de quienes están en contacto directo con las vías respiratorias de u…',\n",
       " 'RT @ZhangZhulin: Chine. Trois lycéens de trois provinces sont décédés pendent leur cours de sport, le port du masque en faisant du jogging…',\n",
       " 'RT @sosorasora3: サージカルマスク装着、手袋やゴーグルはせず、手洗は1日4、5回の看護師は感染。\\nＮ95と手袋を常に着用、ゴーグルもして、せっけん手洗いを1日7～8\\n回していた感染管理認定看護師は感染せず、と。\\nN95を届けないと\\n●患者と接触60分、手にウイル…',\n",
       " 'RT @ncchd_pr: N95マスク、防護服の寄付でご連絡くださった皆様ありがとうございます。\\n＜送付はこちら＞\\n国立研究開発法人 国立成育医療研究センター\\u3000総務課\\n\\u3000\\u3000\\u3000\\u3000〒157-8535 東京都世田谷区大蔵2-10-1\\n\\n未開封、未使用のものは古くても受け付けています…',\n",
       " 'RT @ncchd_pr: N95マスク、防護服の寄付でご連絡くださった皆様ありがとうございます。\\n＜送付はこちら＞\\n国立研究開発法人 国立成育医療研究センター\\u3000総務課\\n\\u3000\\u3000\\u3000\\u3000〒157-8535 東京都世田谷区大蔵2-10-1\\n\\n未開封、未使用のものは古くても受け付けています…',\n",
       " 'RT @ncchd_pr: N95マスクと防護服が不足しています！！\\nご寄付いただける方がいらっしゃいましたらkoho@ncchd.go.jpご連絡いただければ幸いです。（営業のご連絡はご遠慮ください）\\nN95マスクと防護服以外のご寄付の申し込み方法については、https://…',\n",
       " 'RT @tsuneeet: N95マスクを使い回す現場が多い今日この頃、ついN95にお呪い的にアルコールを噴射したくなるかもしれませんが禁忌中の禁忌です。N95マスクは繊維間の静電気の力で微粒子を吸着してますが、アルコールをかけるとマスクの3次元構造が崩壊して性能激減、普通のマ…',\n",
       " 'The only mask I have was given to me and it’s an N95 and I caught wind that I shouldn’t be wearing that one. Well..… https://t.co/CBvV6MNg9w',\n",
       " '@cyntheses @Marechtare1 @realDonaldTrump Newsom just spent 1 billion with China for N95 masks.',\n",
       " \"RT @MaraboutQc: Achat de masques N95: 45 millions $ partis en fumée.\\nC'est incroyable comment le gouvernement Legault improvise avec l'arge…\",\n",
       " 'RT @iVeenaKhan: حکومت کی معاونت کیساتھ یونیورسٹی آف ہیلتھ سائنسز لاہور نے وینٹیلٹر اور N95 ماسک بنانا شروع کردیے ہیں باہر سے امپورٹ کیے گئے…',\n",
       " 'RT @ncchd_pr: N95マスク、防護服の寄付でご連絡くださった皆様ありがとうございます。\\n＜送付はこちら＞\\n国立研究開発法人 国立成育医療研究センター\\u3000総務課\\n\\u3000\\u3000\\u3000\\u3000〒157-8535 東京都世田谷区大蔵2-10-1\\n\\n未開封、未使用のものは古くても受け付けています…',\n",
       " 'RT @PressSec: President @realDonaldTrump has led the greatest mobilization since WWII:\\n\\n➡️75M N95 masks delivered\\n\\n📈3x more than typically…',\n",
       " 'RT @ncchd_pr: N95マスクと防護服が不足しています！！\\nご寄付いただける方がいらっしゃいましたらkoho@ncchd.go.jpご連絡いただければ幸いです。（営業のご連絡はご遠慮ください）\\nN95マスクと防護服以外のご寄付の申し込み方法については、https://…',\n",
       " 'RT @PressSec: President @realDonaldTrump has led the greatest mobilization since WWII:\\n\\n➡️75M N95 masks delivered\\n\\n📈3x more than typically…',\n",
       " 'RT @PressSec: President @realDonaldTrump has led the greatest mobilization since WWII:\\n\\n➡️75M N95 masks delivered\\n\\n📈3x more than typically…',\n",
       " 'RT @tsuneeet: N95マスクを使い回す現場が多い今日この頃、ついN95にお呪い的にアルコールを噴射したくなるかもしれませんが禁忌中の禁忌です。N95マスクは繊維間の静電気の力で微粒子を吸着してますが、アルコールをかけるとマスクの3次元構造が崩壊して性能激減、普通のマ…',\n",
       " 'RT @tsuneeet: N95マスクを使い回す現場が多い今日この頃、ついN95にお呪い的にアルコールを噴射したくなるかもしれませんが禁忌中の禁忌です。N95マスクは繊維間の静電気の力で微粒子を吸着してますが、アルコールをかけるとマスクの3次元構造が崩壊して性能激減、普通のマ…',\n",
       " 'RT @LeeHolly81: @realDonaldTrump The VA gave a contractor with no experience selling medical equipment and no supply chain expertise a cont…',\n",
       " 'RT @WeraReynoso: Con lo que perdió PEMEX en este primer trimestre, se pudieron haber comprado 100 mil ventiladores, 30 millones de trajes d…',\n",
       " 'RT @PerioEurope: Medical masks vs N95 respirators for preventing COVID-19 in healthcare workers: a systematic review and meta-analysis of r…',\n",
       " 'RT @PressSec: President @realDonaldTrump has led the greatest mobilization since WWII:\\n\\n➡️75M N95 masks delivered\\n\\n📈3x more than typically…',\n",
       " 'RT @lord_inario: Buenos días, senadora @CitlaHM: ¿no tendrá alguna mascarilla N95 que le sobre para este personal de salud que verdaderamen…',\n",
       " 'RT @ncchd_pr: N95マスクと防護服が不足しています！！\\nご寄付いただける方がいらっしゃいましたらkoho@ncchd.go.jpご連絡いただければ幸いです。（営業のご連絡はご遠慮ください）\\nN95マスクと防護服以外のご寄付の申し込み方法については、https://…',\n",
       " '@sea34101 @jolune_m Aucun masque ne protège en dehors des ffp2 et n95, qui protègent à 92%. \\nDonc même pas encore c… https://t.co/PTrKqREKfc',\n",
       " 'RT @CDCgov: Given the shortage of N95 respirators during this global outbreak of #COVID19, it’s important to understand the difference betw…',\n",
       " 'RT @PressSec: President @realDonaldTrump has led the greatest mobilization since WWII:\\n\\n➡️75M N95 masks delivered\\n\\n📈3x more than typically…']"
      ]
     },
     "execution_count": 34,
     "metadata": {},
     "output_type": "execute_result"
    }
   ],
   "source": [
    "#[t.text for t in tweet_list2]"
   ]
  },
  {
   "cell_type": "markdown",
   "metadata": {},
   "source": [
    "Note that the free REST API restricts the number of tweets you can retrieve, and the dates: you may not be able to retrieve tweets that are more than a week old.  Pay attention to this restriction as you approach your final project topic!"
   ]
  },
  {
   "cell_type": "code",
   "execution_count": null,
   "metadata": {},
   "outputs": [],
   "source": [
    "#save without indexes to be used in R\n",
    "df.to_csv('tweets.csv',)"
   ]
  },
  {
   "cell_type": "markdown",
   "metadata": {},
   "source": [
    "## Method 2. The Streaming API  \n",
    "\n",
    "The Streaming API allows us to monitor Twitter in real time, grabbing tweets as they are made."
   ]
  },
  {
   "cell_type": "markdown",
   "metadata": {},
   "source": [
    "The ```tweepy``` package includes a class called ```StreamListener``` which monitors Twitter for us.  However, by default StreamListener does nothing with the tweets it collects.\n",
    "\n",
    "In this demonstration, we'll modify ```StreamListener``` to make a class that prints each tweet we're interested in to the screen.  Later, you may wish to create your own class which saves information from tweets to a file."
   ]
  },
  {
   "cell_type": "code",
   "execution_count": null,
   "metadata": {},
   "outputs": [],
   "source": [
    "#Conduct exploration from streaming API (randomized sampling method).\n",
    "#Create a subclass of tweepy.StreamListener to add a response to on_status\n",
    "\n",
    "class PrintingStreamListener(tweepy.StreamListener):\n",
    "    tweet_number= 0   \n",
    "    def on_status(self, status):\n",
    "        print(status.text)\n",
    "        max_tweets=self.tweet_number\n",
    "        self.tweet_number+=1 \n",
    "        try: #except loop \n",
    "            #print (status)\n",
    "            with open(\"streamingAPI.json\",\"a\") as saveFile:\n",
    "                saveFile.write(json.dumps(status._json))\n",
    "                saveFile.write('\\n')\n",
    "                \n",
    "            return True\n",
    "        except BaseException as e:#in case of 404 error or internet signal drops \n",
    "            print (\"rate limited,\",str(e))\n",
    "            time.sleep(5)\n",
    "    #disconnect the stream if we receive an error message indicating we are overloading Twitter\n",
    "    \n",
    "    def on_error(self, status_code):\n",
    "                if status_code == 420: #returning False in on_data disconnects the stream\n",
    "                   return False\n",
    "   "
   ]
  },
  {
   "cell_type": "markdown",
   "metadata": {},
   "source": [
    "Once we have created our subclass, we can set up our own Twitter stream."
   ]
  },
  {
   "cell_type": "code",
   "execution_count": null,
   "metadata": {},
   "outputs": [],
   "source": [
    "    #We create and authenticate an instance of our new ```PrintingStreamListener``` class\n",
    "my_stream_listener = PrintingStreamListener()\n",
    "my_stream = tweepy.Stream(auth = api.auth, listener=my_stream_listener)"
   ]
  },
  {
   "cell_type": "code",
   "execution_count": null,
   "metadata": {},
   "outputs": [],
   "source": [
    "# Now, we're ready to start streaming!  \n",
    "# You can pause the display of tweets by interrupting the Python kernel (use the menu bar at the top)\n",
    "\n",
    "my_stream.filter(track=['mask', 'n95']) \n"
   ]
  },
  {
   "cell_type": "code",
   "execution_count": null,
   "metadata": {},
   "outputs": [],
   "source": [
    "# Even if you pause the display of tweets, your stream is still connected to Twitter!\n",
    "# To disconnect (for example, if you want to change which words you are searching for), \n",
    "\n",
    "my_stream.disconnect()"
   ]
  },
  {
   "cell_type": "code",
   "execution_count": null,
   "metadata": {},
   "outputs": [],
   "source": [
    "#exclude retweets for mask\n",
    "q='mask -filter:retweets'\n"
   ]
  },
  {
   "cell_type": "code",
   "execution_count": null,
   "metadata": {},
   "outputs": [],
   "source": [
    "#exclude retweets for n95\n",
    "q='n95 -filter:retweets'"
   ]
  },
  {
   "cell_type": "markdown",
   "metadata": {},
   "source": [
    "We'll use the ```track``` command to look for tweets with a specific keyword.  You can read more about constructing searches with ```track``` in the <a href=\"https://dev.twitter.com/streaming/overview/request-parameters#track\">Twitter streaming API documentation</a>."
   ]
  },
  {
   "cell_type": "code",
   "execution_count": null,
   "metadata": {
    "scrolled": true
   },
   "outputs": [],
   "source": [
    "#Saving for R\n",
    "#save restAPI as dataframe\n",
    "\n",
    "data = []\n",
    "i = 0\n",
    "with open('restAPI.json') as fp:\n",
    "    for line in fp:\n",
    "        line = json.loads(line)\n",
    "        data.append(line)\n",
    "    # read_json    does not flatten  \n",
    "df = pd.json_normalize(data)"
   ]
  },
  {
   "cell_type": "code",
   "execution_count": null,
   "metadata": {},
   "outputs": [],
   "source": [
    "#Saving for R\n",
    "#save streamingAPI as dataframe\n",
    "\n",
    "data = []\n",
    "i = 0\n",
    "with open('streamingAPI.json') as fp:\n",
    "    for line in fp:\n",
    "        line = json.loads(line)\n",
    "        data.append(line)\n",
    "        # read_json    does not flatten  \n",
    "df = pd.json_normalize(data)"
   ]
  },
  {
   "cell_type": "code",
   "execution_count": null,
   "metadata": {},
   "outputs": [],
   "source": [
    "#---------------------------#data for streamingAPI"
   ]
  },
  {
   "cell_type": "code",
   "execution_count": null,
   "metadata": {},
   "outputs": [],
   "source": [
    "df.to_csv('streamingAPI.csv')"
   ]
  },
  {
   "cell_type": "code",
   "execution_count": null,
   "metadata": {
    "scrolled": true
   },
   "outputs": [],
   "source": [
    "df = pd.read_csv(\"streamingAPI.csv\") \n",
    "df.head() #warning is due to mixed datatype"
   ]
  },
  {
   "cell_type": "code",
   "execution_count": null,
   "metadata": {},
   "outputs": [],
   "source": [
    "df.columns.values #view column values"
   ]
  },
  {
   "cell_type": "code",
   "execution_count": null,
   "metadata": {},
   "outputs": [],
   "source": [
    "df['user.description']"
   ]
  },
  {
   "cell_type": "code",
   "execution_count": null,
   "metadata": {
    "scrolled": true
   },
   "outputs": [],
   "source": [
    "df['user.name'] #view username"
   ]
  },
  {
   "cell_type": "code",
   "execution_count": null,
   "metadata": {
    "scrolled": true
   },
   "outputs": [],
   "source": [
    "df['user.location'] #view location of tweets"
   ]
  },
  {
   "cell_type": "code",
   "execution_count": null,
   "metadata": {},
   "outputs": [],
   "source": [
    "df['text'].head(10) #text of tweets\n"
   ]
  },
  {
   "cell_type": "code",
   "execution_count": null,
   "metadata": {},
   "outputs": [],
   "source": [
    "#sentiment analysis for masks and N95\n",
    "from textblob import TextBlob\n",
    "\n",
    "feelings = TextBlob(\"string\")\n",
    "if feelings.sentiment.polarity<0:\n",
    "    sentiment=\"negative\"\n",
    "elif feelings.sentiment.polarity==0:\n",
    "    sentiment=\"neutral\"\n",
    "else: \n",
    "    sentiment=\"positive\"\n",
    "    \n",
    "print(\"Sentiment: \", sentiment)"
   ]
  },
  {
   "cell_type": "code",
   "execution_count": null,
   "metadata": {},
   "outputs": [],
   "source": [
    "#----------------------#data for restAPI below"
   ]
  },
  {
   "cell_type": "code",
   "execution_count": null,
   "metadata": {},
   "outputs": [],
   "source": [
    "df.to_csv('restAPI.csv') "
   ]
  },
  {
   "cell_type": "code",
   "execution_count": null,
   "metadata": {},
   "outputs": [],
   "source": [
    "df = pd.read_csv(\"restAPI.csv\")\n",
    "df.head()#warning is due to mixed datatype"
   ]
  },
  {
   "cell_type": "code",
   "execution_count": null,
   "metadata": {},
   "outputs": [],
   "source": [
    "df.columns.values #view column values"
   ]
  },
  {
   "cell_type": "code",
   "execution_count": null,
   "metadata": {},
   "outputs": [],
   "source": [
    "df['user.name'] #username"
   ]
  },
  {
   "cell_type": "code",
   "execution_count": null,
   "metadata": {},
   "outputs": [],
   "source": [
    "df['text'].head(100) #text of tweets"
   ]
  },
  {
   "cell_type": "code",
   "execution_count": null,
   "metadata": {},
   "outputs": [],
   "source": [
    "#sentiment analysis for restAPI\n",
    "\n",
    "from textblob import TextBlob\n",
    "\n",
    "feelings = TextBlob(\"string\")\n",
    "if feelings.sentiment.polarity<0:\n",
    "    sentiment=\"negative\"\n",
    "elif feelings.sentiment.polarity==0:\n",
    "    sentiment=\"neutral\"\n",
    "else: \n",
    "    sentiment=\"positive\"\n",
    "    \n",
    "print(\"Sentiment: \", sentiment)\n",
    "\n",
    "#FYI:Sentiment from restAPI (7 days ago) and streamingAPI were both neutral"
   ]
  },
  {
   "cell_type": "code",
   "execution_count": null,
   "metadata": {},
   "outputs": [],
   "source": [
    "A .csv or .txt file containing the data from 100 tweets, \n",
    "#along with any variables you computed about the tweets \n",
    "    #(such as sentiment score or number of exclamation points). \n",
    "\n",
    "#?df.to_csv(C:\\Users\\Chris\\Documents\\GitHub\\ds710spring2020finalproject, tweet_list[100],index = False)"
   ]
  },
  {
   "cell_type": "code",
   "execution_count": null,
   "metadata": {},
   "outputs": [],
   "source": [
    "##remove credentials before Github submission"
   ]
  },
  {
   "cell_type": "markdown",
   "metadata": {},
   "source": [
    "---\n",
    "\n",
    "## Suggestions for skills to learn\n",
    "\n",
    "* Collect 1000 tweets matching a search, or all available in the current time window, whichever comes first.  That 1000 was arbitrary\n",
    "* Extract just the fields you are most interested in from a search, and create a Pandas data frame\n",
    "* Follow the graph of followers from a specific Twitter user"
   ]
  },
  {
   "cell_type": "markdown",
   "metadata": {},
   "source": [
    "---\n",
    "\n",
    "## Useful resources and links\n",
    "\n",
    "* [the structure of the Status object of Tweepy](https://gist.github.com/dev-techmoe/ef676cdd03ac47ac503e856282077bf2)\n",
    "* [Tweet Data Dictionary](https://developer.twitter.com/en/docs/tweets/data-dictionary/overview/tweet-object)\n",
    "* [Standard Operators](https://developer.twitter.com/en/docs/tweets/search/guides/standard-operators) -- premium operators cost money.\n",
    "* [Twitter operators by product](https://developer.twitter.com/en/docs/tweets/rules-and-filtering/overview/operators-by-product) -- by product they mean *paid access level*\n",
    "* [How to use Twitter’s Search REST API most effectively](https://www.karambelkar.info/2015/01/how-to-use-twitters-search-rest-api-most-effectively./)\n",
    "* [Collecting Tweets with Tweepy](http://www.dealingdata.net/2016/07/23/PoGo-Series-Tweepy/)\n"
   ]
  }
 ],
 "metadata": {
  "kernelspec": {
   "display_name": "Python 3",
   "language": "python",
   "name": "python3"
  },
  "language_info": {
   "codemirror_mode": {
    "name": "ipython",
    "version": 3
   },
   "file_extension": ".py",
   "mimetype": "text/x-python",
   "name": "python",
   "nbconvert_exporter": "python",
   "pygments_lexer": "ipython3",
   "version": "3.7.6"
  }
 },
 "nbformat": 4,
 "nbformat_minor": 1
}
